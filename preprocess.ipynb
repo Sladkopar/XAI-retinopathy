{
 "cells": [
  {
   "cell_type": "markdown",
   "id": "1248a786",
   "metadata": {},
   "source": [
    "## Importing all the necessary libraries"
   ]
  },
  {
   "cell_type": "code",
   "execution_count": 1,
   "id": "2d541964",
   "metadata": {},
   "outputs": [],
   "source": [
    "import os\n",
    "import pandas as pd\n",
    "from PIL import Image\n",
    "from torchvision import transforms\n",
    "import matplotlib.pyplot as plt"
   ]
  },
  {
   "cell_type": "markdown",
   "id": "cc974eca",
   "metadata": {},
   "source": [
    "## Creating Directories"
   ]
  },
  {
   "cell_type": "code",
   "execution_count": null,
   "id": "1b68d858",
   "metadata": {},
   "outputs": [],
   "source": [
    "# Original data paths\n",
    "original_train_dir = \"data/aptos2019/train_images\"\n",
    "original_csv = \"data/aptos2019/train.csv\"\n",
    "\n",
    "# New directory for preprocessed images\n",
    "preprocessed_dir = \"data/aptos2019/train_preprocessed\"\n",
    "os.makedirs(preprocessed_dir, exist_ok=True)"
   ]
  },
  {
   "cell_type": "markdown",
   "id": "c91a680c",
   "metadata": {},
   "source": [
    "## Transforming images in the dataset"
   ]
  },
  {
   "cell_type": "code",
   "execution_count": null,
   "id": "f80c7063",
   "metadata": {},
   "outputs": [],
   "source": [
    "# Defining transformation pipeline\n",
    "transforms = transforms.Compose([\n",
    "    transforms.RandomHorizontalFlip(p=0.5),\n",
    "    transforms.RandomRotation(degrees=15),\n",
    "    transforms.ColorJitter(brightness=0.2, contrast=0.2),\n",
    "])\n",
    "\n",
    "# Applying transformation and saving images\n",
    "train_df = pd.read_csv(original_csv)\n",
    "\n",
    "for idx, row in train_df.iterrows():\n",
    "    img_path = os.path.join(original_train_dir, f\"{row['id_code']}.png\")\n",
    "    img = Image.open(img_path)\n",
    "    \n",
    "    # Applying transformation and saving\n",
    "    transformed_img = transforms(img)\n",
    "    transformed_img.save(os.path.join(preprocessed_dir, f\"{row['id_code']}.png\"))"
   ]
  },
  {
   "cell_type": "code",
   "execution_count": 4,
   "id": "9089574b",
   "metadata": {},
   "outputs": [
    {
     "name": "stdout",
     "output_type": "stream",
     "text": [
      "Preprocessing complete\n",
      "Number of images: 3662\n",
      "Transformed images saved to: data/aptos2019/train_preprocessed\n"
     ]
    }
   ],
   "source": [
    "print(\"Preprocessing complete\")\n",
    "print(f\"Number of images: {len(train_df)}\")\n",
    "print(f\"Transformed images saved to: {preprocessed_dir}\")"
   ]
  },
  {
   "cell_type": "markdown",
   "id": "f5fe6379",
   "metadata": {},
   "source": [
    "So, we have ~3.5k labeled and preprocessed images. I'll use them to fine-tune and evaluate a model (or train from scratch)."
   ]
  }
 ],
 "metadata": {
  "kernelspec": {
   "display_name": "Python 3",
   "language": "python",
   "name": "python3"
  },
  "language_info": {
   "codemirror_mode": {
    "name": "ipython",
    "version": 3
   },
   "file_extension": ".py",
   "mimetype": "text/x-python",
   "name": "python",
   "nbconvert_exporter": "python",
   "pygments_lexer": "ipython3",
   "version": "3.12.9"
  }
 },
 "nbformat": 4,
 "nbformat_minor": 5
}
