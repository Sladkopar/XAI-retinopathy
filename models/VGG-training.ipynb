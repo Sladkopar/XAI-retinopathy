{
 "cells": [
  {
   "cell_type": "markdown",
   "metadata": {},
   "source": [
    "## Importing all necessary libraries"
   ]
  },
  {
   "cell_type": "code",
   "execution_count": 15,
   "metadata": {
    "execution": {
     "iopub.execute_input": "2025-04-22T21:17:53.066066Z",
     "iopub.status.busy": "2025-04-22T21:17:53.065802Z",
     "iopub.status.idle": "2025-04-22T21:17:53.070747Z",
     "shell.execute_reply": "2025-04-22T21:17:53.069922Z",
     "shell.execute_reply.started": "2025-04-22T21:17:53.066046Z"
    },
    "trusted": true
   },
   "outputs": [],
   "source": [
    "import pandas as pd\n",
    "import torch\n",
    "import torch.nn as nn\n",
    "import torchvision.models as models\n",
    "from torch.nn import functional as F\n",
    "from sklearn.model_selection import train_test_split\n",
    "from torch.optim.lr_scheduler import ReduceLROnPlateau\n",
    "from tqdm import tqdm\n",
    "from torch.utils.data import Dataset, DataLoader\n",
    "from torchvision import transforms\n",
    "from PIL import Image"
   ]
  },
  {
   "cell_type": "markdown",
   "metadata": {},
   "source": [
    "## Loading data and making a dataset"
   ]
  },
  {
   "cell_type": "code",
   "execution_count": null,
   "metadata": {
    "_cell_guid": "b1076dfc-b9ad-4769-8c92-a6c4dae69d19",
    "_uuid": "8f2839f25d086af736a60e9eeb907d3b93b6e0e5",
    "execution": {
     "iopub.execute_input": "2025-04-22T21:17:53.072330Z",
     "iopub.status.busy": "2025-04-22T21:17:53.071775Z",
     "iopub.status.idle": "2025-04-22T21:17:53.094622Z",
     "shell.execute_reply": "2025-04-22T21:17:53.094100Z",
     "shell.execute_reply.started": "2025-04-22T21:17:53.072307Z"
    },
    "trusted": true
   },
   "outputs": [],
   "source": [
    "df = pd.read_csv(\"../data/aptos2019/train.csv\")\n",
    "train_df, val_df = train_test_split(df, test_size=0.2, random_state=42)\n",
    "\n",
    "# Dataset class\n",
    "class RetinopathyDataset(Dataset):\n",
    "    def __init__(self, df, img_dir, transform=None):\n",
    "        self.df = df\n",
    "        self.img_dir = img_dir\n",
    "        self.transform = transform\n",
    "\n",
    "    def __len__(self):\n",
    "        return len(self.df)\n",
    "\n",
    "    def __getitem__(self, idx):\n",
    "        img_path = f\"{self.img_dir}/{self.df.iloc[idx, 0]}.png\"\n",
    "        img = Image.open(img_path)\n",
    "        label = self.df.iloc[idx, 1]\n",
    "        \n",
    "        if self.transform:\n",
    "            img = self.transform(img)\n",
    "        return img, label\n",
    "\n",
    "# Transforms\n",
    "transform = transforms.Compose([\n",
    "    transforms.Resize((224, 224)),\n",
    "    transforms.ToTensor(),\n",
    "    transforms.Normalize(mean=[0.485, 0.456, 0.406], std=[0.229, 0.224, 0.225]),\n",
    "])"
   ]
  },
  {
   "cell_type": "code",
   "execution_count": null,
   "metadata": {
    "execution": {
     "iopub.execute_input": "2025-04-22T21:17:53.095828Z",
     "iopub.status.busy": "2025-04-22T21:17:53.095638Z",
     "iopub.status.idle": "2025-04-22T21:17:53.099886Z",
     "shell.execute_reply": "2025-04-22T21:17:53.099288Z",
     "shell.execute_reply.started": "2025-04-22T21:17:53.095814Z"
    },
    "trusted": true
   },
   "outputs": [],
   "source": [
    "# DataLoaders\n",
    "train_dataset = RetinopathyDataset(train_df, \"data/aptos2019/train_images\", transform)\n",
    "val_dataset = RetinopathyDataset(val_df, \"data/aptos2019/train_images\", transform)\n",
    "\n",
    "train_loader = DataLoader(train_dataset, batch_size=32, shuffle=True)\n",
    "val_loader = DataLoader(val_dataset, batch_size=32, shuffle=False)"
   ]
  },
  {
   "cell_type": "markdown",
   "metadata": {},
   "source": [
    "## Model setup and training"
   ]
  },
  {
   "cell_type": "code",
   "execution_count": null,
   "metadata": {
    "execution": {
     "iopub.execute_input": "2025-04-22T21:17:53.100802Z",
     "iopub.status.busy": "2025-04-22T21:17:53.100579Z",
     "iopub.status.idle": "2025-04-22T21:17:54.993859Z",
     "shell.execute_reply": "2025-04-22T21:17:54.993117Z",
     "shell.execute_reply.started": "2025-04-22T21:17:53.100787Z"
    },
    "trusted": true
   },
   "outputs": [],
   "source": [
    "class DRModel(nn.Module):\n",
    "    def __init__(self, num_classes=5):\n",
    "        super(DRModel, self).__init__()\n",
    "        \n",
    "        # Loading pre-trained VGG19\n",
    "        self.vgg = models.vgg19(weights='IMAGENET1K_V1')\n",
    "        \n",
    "        # Removing the classifier\n",
    "        self.features = self.vgg.features\n",
    "        \n",
    "        # Freezing VGG19 weights\n",
    "        for param in self.features.parameters():\n",
    "            param.requires_grad = False\n",
    "            \n",
    "        # Additional layers\n",
    "        self.global_avg_pool = nn.AdaptiveAvgPool2d((1, 1))\n",
    "        self.flatten = nn.Flatten()\n",
    "\n",
    "        # VGG19 last conv has 512 channels\n",
    "        self.fc1 = nn.Linear(512, 256)\n",
    "        self.dropout = nn.Dropout(0.3)\n",
    "        self.fc2 = nn.Linear(256, num_classes)\n",
    "        \n",
    "        # Activation\n",
    "        self.elu = nn.ELU()\n",
    "        \n",
    "    def forward(self, x):\n",
    "        # Feature extraction\n",
    "        x = self.features(x)\n",
    "        x = self.global_avg_pool(x)\n",
    "        x = self.flatten(x)\n",
    "        \n",
    "        # Classification\n",
    "        x = self.fc1(x)\n",
    "        x = self.elu(x)\n",
    "        x = self.dropout(x)\n",
    "        x = self.fc2(x)\n",
    "        \n",
    "        return x\n",
    "\n",
    "# Model setup\n",
    "model = DRModel(num_classes=5)\n",
    "\n",
    "device = torch.device('cuda' if torch.cuda.is_available() else 'cpu')\n",
    "model = model.to(device)"
   ]
  },
  {
   "cell_type": "code",
   "execution_count": null,
   "metadata": {
    "execution": {
     "iopub.execute_input": "2025-04-22T21:17:54.995555Z",
     "iopub.status.busy": "2025-04-22T21:17:54.995276Z",
     "iopub.status.idle": "2025-04-22T21:17:55.000952Z",
     "shell.execute_reply": "2025-04-22T21:17:55.000422Z",
     "shell.execute_reply.started": "2025-04-22T21:17:54.995530Z"
    },
    "trusted": true
   },
   "outputs": [
    {
     "name": "stderr",
     "output_type": "stream",
     "text": [
      "/usr/local/lib/python3.11/dist-packages/torch/optim/lr_scheduler.py:62: UserWarning: The verbose parameter is deprecated. Please use get_last_lr() to access the learning rate.\n",
      "  warnings.warn(\n"
     ]
    }
   ],
   "source": [
    "# Training setup\n",
    "criterion = nn.CrossEntropyLoss()\n",
    "optimizer = torch.optim.Adam(model.parameters(), lr=1e-4)\n",
    "scheduler = ReduceLROnPlateau(optimizer, mode=\"min\", patience=2, verbose=True)\n",
    "best_val_loss = float(\"inf\")\n",
    "early_stop_patience = 5\n",
    "epochs_no_improve = 0\n",
    "num_epochs = 20"
   ]
  },
  {
   "cell_type": "code",
   "execution_count": null,
   "metadata": {
    "execution": {
     "iopub.execute_input": "2025-04-22T21:17:55.002149Z",
     "iopub.status.busy": "2025-04-22T21:17:55.001650Z",
     "iopub.status.idle": "2025-04-22T23:31:18.260180Z",
     "shell.execute_reply": "2025-04-22T23:31:18.259353Z",
     "shell.execute_reply.started": "2025-04-22T21:17:55.002127Z"
    },
    "trusted": true
   },
   "outputs": [
    {
     "name": "stderr",
     "output_type": "stream",
     "text": [
      "100%|██████████| 92/92 [06:19<00:00,  4.12s/it]\n"
     ]
    },
    {
     "name": "stdout",
     "output_type": "stream",
     "text": [
      "Epoch 1/20\n",
      "Train Loss: 1.2371 | Train Acc: 16.8696%\n",
      "Val Loss: 1.1014 | Val Acc: 17.7826%\n"
     ]
    },
    {
     "name": "stderr",
     "output_type": "stream",
     "text": [
      "100%|██████████| 92/92 [05:16<00:00,  3.44s/it]\n"
     ]
    },
    {
     "name": "stdout",
     "output_type": "stream",
     "text": [
      "Epoch 2/20\n",
      "Train Loss: 0.9925 | Train Acc: 21.4022%\n",
      "Val Loss: 0.9211 | Val Acc: 22.5217%\n"
     ]
    },
    {
     "name": "stderr",
     "output_type": "stream",
     "text": [
      "100%|██████████| 92/92 [05:16<00:00,  3.43s/it]\n"
     ]
    },
    {
     "name": "stdout",
     "output_type": "stream",
     "text": [
      "Epoch 3/20\n",
      "Train Loss: 0.8546 | Train Acc: 22.6304%\n",
      "Val Loss: 0.8258 | Val Acc: 23.0870%\n"
     ]
    },
    {
     "name": "stderr",
     "output_type": "stream",
     "text": [
      "100%|██████████| 92/92 [05:15<00:00,  3.43s/it]\n"
     ]
    },
    {
     "name": "stdout",
     "output_type": "stream",
     "text": [
      "Epoch 4/20\n",
      "Train Loss: 0.7813 | Train Acc: 22.9239%\n",
      "Val Loss: 0.7751 | Val Acc: 23.0870%\n"
     ]
    },
    {
     "name": "stderr",
     "output_type": "stream",
     "text": [
      "100%|██████████| 92/92 [05:17<00:00,  3.45s/it]\n"
     ]
    },
    {
     "name": "stdout",
     "output_type": "stream",
     "text": [
      "Epoch 5/20\n",
      "Train Loss: 0.7366 | Train Acc: 23.0978%\n",
      "Val Loss: 0.7417 | Val Acc: 23.3043%\n"
     ]
    },
    {
     "name": "stderr",
     "output_type": "stream",
     "text": [
      "100%|██████████| 92/92 [05:17<00:00,  3.45s/it]\n"
     ]
    },
    {
     "name": "stdout",
     "output_type": "stream",
     "text": [
      "Epoch 6/20\n",
      "Train Loss: 0.7038 | Train Acc: 23.2935%\n",
      "Val Loss: 0.7156 | Val Acc: 23.4348%\n"
     ]
    },
    {
     "name": "stderr",
     "output_type": "stream",
     "text": [
      "100%|██████████| 92/92 [05:19<00:00,  3.47s/it]\n"
     ]
    },
    {
     "name": "stdout",
     "output_type": "stream",
     "text": [
      "Epoch 7/20\n",
      "Train Loss: 0.6800 | Train Acc: 23.5217%\n",
      "Val Loss: 0.7006 | Val Acc: 23.5652%\n"
     ]
    },
    {
     "name": "stderr",
     "output_type": "stream",
     "text": [
      "100%|██████████| 92/92 [05:15<00:00,  3.43s/it]\n"
     ]
    },
    {
     "name": "stdout",
     "output_type": "stream",
     "text": [
      "Epoch 8/20\n",
      "Train Loss: 0.6548 | Train Acc: 23.7826%\n",
      "Val Loss: 0.6841 | Val Acc: 24.0870%\n"
     ]
    },
    {
     "name": "stderr",
     "output_type": "stream",
     "text": [
      "100%|██████████| 92/92 [05:15<00:00,  3.43s/it]\n"
     ]
    },
    {
     "name": "stdout",
     "output_type": "stream",
     "text": [
      "Epoch 9/20\n",
      "Train Loss: 0.6396 | Train Acc: 23.9457%\n",
      "Val Loss: 0.6669 | Val Acc: 23.9565%\n"
     ]
    },
    {
     "name": "stderr",
     "output_type": "stream",
     "text": [
      "100%|██████████| 92/92 [05:13<00:00,  3.41s/it]\n"
     ]
    },
    {
     "name": "stdout",
     "output_type": "stream",
     "text": [
      "Epoch 10/20\n",
      "Train Loss: 0.6229 | Train Acc: 24.1957%\n",
      "Val Loss: 0.6556 | Val Acc: 24.2174%\n"
     ]
    },
    {
     "name": "stderr",
     "output_type": "stream",
     "text": [
      "100%|██████████| 92/92 [05:13<00:00,  3.41s/it]\n"
     ]
    },
    {
     "name": "stdout",
     "output_type": "stream",
     "text": [
      "Epoch 11/20\n",
      "Train Loss: 0.6109 | Train Acc: 24.3587%\n",
      "Val Loss: 0.6469 | Val Acc: 24.3478%\n"
     ]
    },
    {
     "name": "stderr",
     "output_type": "stream",
     "text": [
      "100%|██████████| 92/92 [05:16<00:00,  3.43s/it]\n"
     ]
    },
    {
     "name": "stdout",
     "output_type": "stream",
     "text": [
      "Epoch 12/20\n",
      "Train Loss: 0.6007 | Train Acc: 24.4130%\n",
      "Val Loss: 0.6404 | Val Acc: 24.4348%\n"
     ]
    },
    {
     "name": "stderr",
     "output_type": "stream",
     "text": [
      "100%|██████████| 92/92 [05:13<00:00,  3.41s/it]\n"
     ]
    },
    {
     "name": "stdout",
     "output_type": "stream",
     "text": [
      "Epoch 13/20\n",
      "Train Loss: 0.5919 | Train Acc: 24.6522%\n",
      "Val Loss: 0.6320 | Val Acc: 24.3913%\n"
     ]
    },
    {
     "name": "stderr",
     "output_type": "stream",
     "text": [
      "100%|██████████| 92/92 [05:13<00:00,  3.41s/it]\n"
     ]
    },
    {
     "name": "stdout",
     "output_type": "stream",
     "text": [
      "Epoch 14/20\n",
      "Train Loss: 0.5845 | Train Acc: 24.9130%\n",
      "Val Loss: 0.6243 | Val Acc: 24.3913%\n"
     ]
    },
    {
     "name": "stderr",
     "output_type": "stream",
     "text": [
      "100%|██████████| 92/92 [05:13<00:00,  3.41s/it]\n"
     ]
    },
    {
     "name": "stdout",
     "output_type": "stream",
     "text": [
      "Epoch 15/20\n",
      "Train Loss: 0.5724 | Train Acc: 25.0435%\n",
      "Val Loss: 0.6246 | Val Acc: 24.5652%\n"
     ]
    },
    {
     "name": "stderr",
     "output_type": "stream",
     "text": [
      "100%|██████████| 92/92 [05:14<00:00,  3.41s/it]\n"
     ]
    },
    {
     "name": "stdout",
     "output_type": "stream",
     "text": [
      "Epoch 16/20\n",
      "Train Loss: 0.5674 | Train Acc: 25.0870%\n",
      "Val Loss: 0.6152 | Val Acc: 24.2609%\n"
     ]
    },
    {
     "name": "stderr",
     "output_type": "stream",
     "text": [
      "100%|██████████| 92/92 [05:13<00:00,  3.41s/it]\n"
     ]
    },
    {
     "name": "stdout",
     "output_type": "stream",
     "text": [
      "Epoch 17/20\n",
      "Train Loss: 0.5566 | Train Acc: 25.1413%\n",
      "Val Loss: 0.6086 | Val Acc: 24.3913%\n"
     ]
    },
    {
     "name": "stderr",
     "output_type": "stream",
     "text": [
      "100%|██████████| 92/92 [05:13<00:00,  3.41s/it]\n"
     ]
    },
    {
     "name": "stdout",
     "output_type": "stream",
     "text": [
      "Epoch 18/20\n",
      "Train Loss: 0.5528 | Train Acc: 25.0109%\n",
      "Val Loss: 0.6093 | Val Acc: 24.3043%\n"
     ]
    },
    {
     "name": "stderr",
     "output_type": "stream",
     "text": [
      "100%|██████████| 92/92 [05:14<00:00,  3.41s/it]\n"
     ]
    },
    {
     "name": "stdout",
     "output_type": "stream",
     "text": [
      "Epoch 19/20\n",
      "Train Loss: 0.5518 | Train Acc: 25.1087%\n",
      "Val Loss: 0.6015 | Val Acc: 24.5652%\n"
     ]
    },
    {
     "name": "stderr",
     "output_type": "stream",
     "text": [
      "100%|██████████| 92/92 [05:13<00:00,  3.41s/it]\n"
     ]
    },
    {
     "name": "stdout",
     "output_type": "stream",
     "text": [
      "Epoch 20/20\n",
      "Train Loss: 0.5402 | Train Acc: 25.3696%\n",
      "Val Loss: 0.6045 | Val Acc: 24.6087%\n"
     ]
    }
   ],
   "source": [
    "# Training loop\n",
    "for epoch in range(num_epochs):\n",
    "    # Training\n",
    "    model.train()\n",
    "    train_loss = 0.0\n",
    "    train_correct = 0\n",
    "    \n",
    "    for images, labels in tqdm(train_loader):\n",
    "        images, labels = images.to(device), labels.to(device)\n",
    "        optimizer.zero_grad()\n",
    "        outputs = model(images)\n",
    "        loss = criterion(outputs, labels)\n",
    "        loss.backward()\n",
    "        optimizer.step()\n",
    "        \n",
    "        train_loss += loss.item()\n",
    "        _, predicted = torch.max(outputs.data, 1)\n",
    "        train_correct += (predicted == labels).sum().item()\n",
    "\n",
    "    # Validation\n",
    "    model.eval()\n",
    "    val_loss = 0.0\n",
    "    val_correct = 0\n",
    "    \n",
    "    with torch.no_grad():\n",
    "        for images, labels in tqdm(val_loader):\n",
    "            images, labels = images.to(device), labels.to(device)\n",
    "            outputs = model(images)\n",
    "            loss = criterion(outputs, labels)\n",
    "            \n",
    "            val_loss += loss.item()\n",
    "            _, predicted = torch.max(outputs.data, 1)\n",
    "            val_correct += (predicted == labels).sum().item()\n",
    "            \n",
    "    # LR scheduling & early stopping\n",
    "    scheduler.step(val_loss)\n",
    "    \n",
    "\t# Saving best model\n",
    "    if val_loss < best_val_loss:\n",
    "        best_val_loss = val_loss\n",
    "        torch.save(model.state_dict(), \"best_model.pth\")\n",
    "        epochs_no_improve = 0\n",
    "    else:\n",
    "        epochs_no_improve += 1\n",
    "        if epochs_no_improve == early_stop_patience:\n",
    "            print(f\"Epoch {epoch+1}/{num_epochs}\")\n",
    "            print(f\"Train Loss: {train_loss/len(train_loader):.4f} | Train Acc: {train_correct/len(train_loader):.4f}%\")\n",
    "            print(f\"Val Loss: {val_loss/len(val_loader):.4f} | Val Acc: {val_correct/len(val_loader):.4f}%\")\n",
    "            print(\"Early stopping triggered!\")\n",
    "            break\n",
    "\n",
    "    print(f\"Epoch {epoch+1}/{num_epochs}\")\n",
    "    print(f\"Train Loss: {train_loss/len(train_loader):.4f} | Train Acc: {train_correct/len(train_loader):.4f}%\")\n",
    "    print(f\"Val Loss: {val_loss/len(val_loader):.4f} | Val Acc: {val_correct/len(val_loader):.4f}%\")"
   ]
  },
  {
   "cell_type": "markdown",
   "metadata": {},
   "source": [
    "I made an error while calculating accuracy, so the numbers after \"Train Acc:\" and \"Val Acc:\" are mean number of correct predintions in one batch (with size 32), so it should be `number / 32 * 100` %"
   ]
  },
  {
   "cell_type": "code",
   "execution_count": 27,
   "metadata": {
    "execution": {
     "iopub.execute_input": "2025-04-22T23:38:22.404071Z",
     "iopub.status.busy": "2025-04-22T23:38:22.403549Z",
     "iopub.status.idle": "2025-04-22T23:38:22.408458Z",
     "shell.execute_reply": "2025-04-22T23:38:22.407515Z",
     "shell.execute_reply.started": "2025-04-22T23:38:22.404047Z"
    },
    "trusted": true
   },
   "outputs": [
    {
     "name": "stdout",
     "output_type": "stream",
     "text": [
      "0.772169167803547\n"
     ]
    }
   ],
   "source": [
    "print(val_correct/len(val_loader.dataset))"
   ]
  }
 ],
 "metadata": {
  "kaggle": {
   "accelerator": "gpu",
   "dataSources": [
    {
     "databundleVersionId": 875431,
     "sourceId": 14774,
     "sourceType": "competition"
    }
   ],
   "dockerImageVersionId": 31011,
   "isGpuEnabled": true,
   "isInternetEnabled": true,
   "language": "python",
   "sourceType": "notebook"
  },
  "kernelspec": {
   "display_name": "Python 3",
   "language": "python",
   "name": "python3"
  },
  "language_info": {
   "codemirror_mode": {
    "name": "ipython",
    "version": 3
   },
   "file_extension": ".py",
   "mimetype": "text/x-python",
   "name": "python",
   "nbconvert_exporter": "python",
   "pygments_lexer": "ipython3",
   "version": "3.11.11"
  }
 },
 "nbformat": 4,
 "nbformat_minor": 4
}
